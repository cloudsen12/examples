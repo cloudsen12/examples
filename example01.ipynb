{
  "cells": [
    {
      "cell_type": "markdown",
      "metadata": {
        "id": "iPNiMbarmZQM"
      },
      "source": [
        "<a href=\"https://colab.research.google.com/github/cloudsen12/examples/blob/master/example01.ipynb\"><img align=\"left\" src=\"https://colab.research.google.com/assets/colab-badge.svg\" alt=\"Open in Colab\" title=\"Open and Execute in Google Colaboratory\"></a>\n",
        "\n",
        "<br>\n",
        "\n",
        "<a href=\"https://github.com/cloudsen12/examples/blob/main/example01.ipynb\"><img align=\"left\" src=\"https://img.shields.io/badge/github-%23121011.svg?style=for-the-badge&logo=github&logoColor=white\"></a>\n",
        "\n",
        "\n",
        "<br><br>\n",
        "\n",
        "<!--COURSE_INFORMATION-->\n",
        "<img align=\"left\" style=\"padding-right:10px;\" src=\"https://cloudsen12.github.io/thumbnails/cloudsen12.gif\" width=10% >\n",
        "\n",
        "\n",
        ">>>> *This notebook is part of the paper [CloudSEN12 - a global dataset for semantic understanding of cloud and cloud shadow in Sentinel-2](https://cloudsen12.github.io/); the content is available [on GitHub](https://github.com/cloudsen12)* and released under the [MIT](https://opensource.org/licenses/MIT) license. \n",
        "\n",
        "<br>\n",
        "\n",
        "- See our paper [here](https://www.nature.com/articles/s41597-022-01878-2).\n",
        "\n",
        "- See cloudSEN12 website [here](https://cloudsen12.github.io/).\n",
        "\n",
        "- See cloudSEN12 in Science Data Bank [here](https://www.scidb.cn/en/detail?dataSetId=f72d622ff4ea4fa18070456a98222b1a).\n",
        "\n",
        "- See cloudSEN12 in Google Drive [here](https://drive.google.com/drive/folders/1H_Qxy1yX6moqFbKc3Ajn4FFrHlDhYuz3).\n",
        "\n",
        "- See cloudSEN12 in GitHub [here](https://github.com/cloudsen12).\n",
        "\n",
        "- See cloudSEN12 in Google Earth Engine [here](https://samapriya.github.io/awesome-gee-community-datasets/projects/cloudsen12/).\n",
        "\n",
        "- See CloudApp [here](https://csaybar.users.earthengine.app/view/cloudapp)."
      ]
    },
    {
      "cell_type": "markdown",
      "metadata": {
        "id": "kF6QQHkyqLWA"
      },
      "source": [
        "### **1. Install the cloudsen12 Python package**"
      ]
    },
    {
      "cell_type": "code",
      "execution_count": null,
      "metadata": {
        "colab": {
          "base_uri": "https://localhost:8080/"
        },
        "id": "M8hSBE_rMcRE",
        "outputId": "e6de34f4-f227-4e75-e7dd-579d636daa74"
      },
      "outputs": [
        {
          "name": "stdout",
          "output_type": "stream",
          "text": [
            "Looking in indexes: https://pypi.org/simple, https://us-python.pkg.dev/colab-wheels/public/simple/\n",
            "Requirement already satisfied: gdown in /usr/local/lib/python3.7/dist-packages (4.4.0)\n",
            "Collecting gdown\n",
            "  Downloading gdown-4.5.1.tar.gz (14 kB)\n",
            "  Installing build dependencies ... \u001b[?25l\u001b[?25hdone\n",
            "  Getting requirements to build wheel ... \u001b[?25l\u001b[?25hdone\n",
            "    Preparing wheel metadata ... \u001b[?25l\u001b[?25hdone\n",
            "Requirement already satisfied: beautifulsoup4 in /usr/local/lib/python3.7/dist-packages (from gdown) (4.6.3)\n",
            "Requirement already satisfied: six in /usr/local/lib/python3.7/dist-packages (from gdown) (1.15.0)\n",
            "Requirement already satisfied: requests[socks] in /usr/local/lib/python3.7/dist-packages (from gdown) (2.23.0)\n",
            "Requirement already satisfied: filelock in /usr/local/lib/python3.7/dist-packages (from gdown) (3.8.0)\n",
            "Requirement already satisfied: tqdm in /usr/local/lib/python3.7/dist-packages (from gdown) (4.64.1)\n",
            "Requirement already satisfied: certifi>=2017.4.17 in /usr/local/lib/python3.7/dist-packages (from requests[socks]->gdown) (2022.6.15)\n",
            "Requirement already satisfied: idna<3,>=2.5 in /usr/local/lib/python3.7/dist-packages (from requests[socks]->gdown) (2.10)\n",
            "Requirement already satisfied: chardet<4,>=3.0.2 in /usr/local/lib/python3.7/dist-packages (from requests[socks]->gdown) (3.0.4)\n",
            "Requirement already satisfied: urllib3!=1.25.0,!=1.25.1,<1.26,>=1.21.1 in /usr/local/lib/python3.7/dist-packages (from requests[socks]->gdown) (1.24.3)\n",
            "Requirement already satisfied: PySocks!=1.5.7,>=1.5.6 in /usr/local/lib/python3.7/dist-packages (from requests[socks]->gdown) (1.7.1)\n",
            "Building wheels for collected packages: gdown\n",
            "  Building wheel for gdown (PEP 517) ... \u001b[?25l\u001b[?25hdone\n",
            "  Created wheel for gdown: filename=gdown-4.5.1-py3-none-any.whl size=14951 sha256=b15f065cca27bd6e0248749db742cbb22d64f6d9b8d4eab29351045cf2304120\n",
            "  Stored in directory: /tmp/pip-ephem-wheel-cache-z4rj4v4s/wheels/3d/ec/b0/a96d1d126183f98570a785e6bf8789fca559853a9260e928e1\n",
            "Successfully built gdown\n",
            "Installing collected packages: gdown\n",
            "  Attempting uninstall: gdown\n",
            "    Found existing installation: gdown 4.4.0\n",
            "    Uninstalling gdown-4.4.0:\n",
            "      Successfully uninstalled gdown-4.4.0\n",
            "Successfully installed gdown-4.5.1\n"
          ]
        }
      ],
      "source": [
        "!pip install --upgrade --no-cache-dir gdown"
      ]
    },
    {
      "cell_type": "code",
      "execution_count": null,
      "metadata": {
        "colab": {
          "base_uri": "https://localhost:8080/"
        },
        "id": "DCzSToaeQihz",
        "outputId": "fff175c7-9eec-4d9d-96a7-ca138b141e24"
      },
      "outputs": [
        {
          "name": "stdout",
          "output_type": "stream",
          "text": [
            "Looking in indexes: https://pypi.org/simple, https://us-python.pkg.dev/colab-wheels/public/simple/\n",
            "Collecting cloudsen12\n",
            "  Downloading cloudsen12-0.0.3-py3-none-any.whl (8.4 kB)\n",
            "Collecting maskay\n",
            "  Downloading maskay-0.0.1.6-py3-none-any.whl (31 kB)\n",
            "Requirement already satisfied: gdown in /usr/local/lib/python3.7/dist-packages (from cloudsen12) (4.5.1)\n",
            "Requirement already satisfied: dill in /usr/local/lib/python3.7/dist-packages (from cloudsen12) (0.3.5.1)\n",
            "Collecting pystac\n",
            "  Downloading pystac-1.5.0-py3-none-any.whl (146 kB)\n",
            "\u001b[K     |████████████████████████████████| 146 kB 7.8 MB/s \n",
            "\u001b[?25hCollecting segmentation-models-pytorch\n",
            "  Downloading segmentation_models_pytorch-0.3.0-py3-none-any.whl (97 kB)\n",
            "\u001b[K     |████████████████████████████████| 97 kB 5.2 MB/s \n",
            "\u001b[?25hRequirement already satisfied: shapely in /usr/local/lib/python3.7/dist-packages (from cloudsen12) (1.8.4)\n",
            "Collecting pytorch-lightning\n",
            "  Downloading pytorch_lightning-1.7.6-py3-none-any.whl (707 kB)\n",
            "\u001b[K     |████████████████████████████████| 707 kB 34.4 MB/s \n",
            "\u001b[?25hRequirement already satisfied: six in /usr/local/lib/python3.7/dist-packages (from gdown->cloudsen12) (1.15.0)\n",
            "Requirement already satisfied: beautifulsoup4 in /usr/local/lib/python3.7/dist-packages (from gdown->cloudsen12) (4.6.3)\n",
            "Requirement already satisfied: requests[socks] in /usr/local/lib/python3.7/dist-packages (from gdown->cloudsen12) (2.23.0)\n",
            "Requirement already satisfied: tqdm in /usr/local/lib/python3.7/dist-packages (from gdown->cloudsen12) (4.64.1)\n",
            "Requirement already satisfied: filelock in /usr/local/lib/python3.7/dist-packages (from gdown->cloudsen12) (3.8.0)\n",
            "Requirement already satisfied: numpy in /usr/local/lib/python3.7/dist-packages (from maskay->cloudsen12) (1.21.6)\n",
            "Collecting rioxarray\n",
            "  Downloading rioxarray-0.9.1.tar.gz (47 kB)\n",
            "\u001b[K     |████████████████████████████████| 47 kB 3.5 MB/s \n",
            "\u001b[?25h  Installing build dependencies ... \u001b[?25l\u001b[?25hdone\n",
            "  Getting requirements to build wheel ... \u001b[?25l\u001b[?25hdone\n",
            "    Preparing wheel metadata ... \u001b[?25l\u001b[?25hdone\n",
            "Requirement already satisfied: typing-extensions>=3.7 in /usr/local/lib/python3.7/dist-packages (from pystac->cloudsen12) (4.1.1)\n",
            "Requirement already satisfied: python-dateutil>=2.7.0 in /usr/local/lib/python3.7/dist-packages (from pystac->cloudsen12) (2.8.2)\n",
            "Requirement already satisfied: torch>=1.9.* in /usr/local/lib/python3.7/dist-packages (from pytorch-lightning->cloudsen12) (1.12.1+cu113)\n",
            "Requirement already satisfied: PyYAML>=5.4 in /usr/local/lib/python3.7/dist-packages (from pytorch-lightning->cloudsen12) (6.0)\n",
            "Collecting torchmetrics>=0.7.0\n",
            "  Downloading torchmetrics-0.9.3-py3-none-any.whl (419 kB)\n",
            "\u001b[K     |████████████████████████████████| 419 kB 44.7 MB/s \n",
            "\u001b[?25hRequirement already satisfied: packaging>=17.0 in /usr/local/lib/python3.7/dist-packages (from pytorch-lightning->cloudsen12) (21.3)\n",
            "Collecting pyDeprecate>=0.3.1\n",
            "  Downloading pyDeprecate-0.3.2-py3-none-any.whl (10 kB)\n",
            "Collecting tensorboard>=2.9.1\n",
            "  Downloading tensorboard-2.10.0-py3-none-any.whl (5.9 MB)\n",
            "\u001b[K     |████████████████████████████████| 5.9 MB 41.4 MB/s \n",
            "\u001b[?25hRequirement already satisfied: fsspec[http]!=2021.06.0,>=2021.05.0 in /usr/local/lib/python3.7/dist-packages (from pytorch-lightning->cloudsen12) (2022.8.2)\n",
            "Requirement already satisfied: aiohttp!=4.0.0a0,!=4.0.0a1 in /usr/local/lib/python3.7/dist-packages (from fsspec[http]!=2021.06.0,>=2021.05.0->pytorch-lightning->cloudsen12) (3.8.1)\n",
            "Requirement already satisfied: asynctest==0.13.0 in /usr/local/lib/python3.7/dist-packages (from aiohttp!=4.0.0a0,!=4.0.0a1->fsspec[http]!=2021.06.0,>=2021.05.0->pytorch-lightning->cloudsen12) (0.13.0)\n",
            "Requirement already satisfied: multidict<7.0,>=4.5 in /usr/local/lib/python3.7/dist-packages (from aiohttp!=4.0.0a0,!=4.0.0a1->fsspec[http]!=2021.06.0,>=2021.05.0->pytorch-lightning->cloudsen12) (6.0.2)\n",
            "Requirement already satisfied: attrs>=17.3.0 in /usr/local/lib/python3.7/dist-packages (from aiohttp!=4.0.0a0,!=4.0.0a1->fsspec[http]!=2021.06.0,>=2021.05.0->pytorch-lightning->cloudsen12) (22.1.0)\n",
            "Requirement already satisfied: yarl<2.0,>=1.0 in /usr/local/lib/python3.7/dist-packages (from aiohttp!=4.0.0a0,!=4.0.0a1->fsspec[http]!=2021.06.0,>=2021.05.0->pytorch-lightning->cloudsen12) (1.8.1)\n",
            "Requirement already satisfied: charset-normalizer<3.0,>=2.0 in /usr/local/lib/python3.7/dist-packages (from aiohttp!=4.0.0a0,!=4.0.0a1->fsspec[http]!=2021.06.0,>=2021.05.0->pytorch-lightning->cloudsen12) (2.1.1)\n",
            "Requirement already satisfied: aiosignal>=1.1.2 in /usr/local/lib/python3.7/dist-packages (from aiohttp!=4.0.0a0,!=4.0.0a1->fsspec[http]!=2021.06.0,>=2021.05.0->pytorch-lightning->cloudsen12) (1.2.0)\n",
            "Requirement already satisfied: frozenlist>=1.1.1 in /usr/local/lib/python3.7/dist-packages (from aiohttp!=4.0.0a0,!=4.0.0a1->fsspec[http]!=2021.06.0,>=2021.05.0->pytorch-lightning->cloudsen12) (1.3.1)\n",
            "Requirement already satisfied: async-timeout<5.0,>=4.0.0a3 in /usr/local/lib/python3.7/dist-packages (from aiohttp!=4.0.0a0,!=4.0.0a1->fsspec[http]!=2021.06.0,>=2021.05.0->pytorch-lightning->cloudsen12) (4.0.2)\n",
            "Requirement already satisfied: pyparsing!=3.0.5,>=2.0.2 in /usr/local/lib/python3.7/dist-packages (from packaging>=17.0->pytorch-lightning->cloudsen12) (3.0.9)\n",
            "Requirement already satisfied: markdown>=2.6.8 in /usr/local/lib/python3.7/dist-packages (from tensorboard>=2.9.1->pytorch-lightning->cloudsen12) (3.4.1)\n",
            "Requirement already satisfied: setuptools>=41.0.0 in /usr/local/lib/python3.7/dist-packages (from tensorboard>=2.9.1->pytorch-lightning->cloudsen12) (57.4.0)\n",
            "Requirement already satisfied: google-auth-oauthlib<0.5,>=0.4.1 in /usr/local/lib/python3.7/dist-packages (from tensorboard>=2.9.1->pytorch-lightning->cloudsen12) (0.4.6)\n",
            "Requirement already satisfied: werkzeug>=1.0.1 in /usr/local/lib/python3.7/dist-packages (from tensorboard>=2.9.1->pytorch-lightning->cloudsen12) (1.0.1)\n",
            "Requirement already satisfied: wheel>=0.26 in /usr/local/lib/python3.7/dist-packages (from tensorboard>=2.9.1->pytorch-lightning->cloudsen12) (0.37.1)\n",
            "Requirement already satisfied: google-auth<3,>=1.6.3 in /usr/local/lib/python3.7/dist-packages (from tensorboard>=2.9.1->pytorch-lightning->cloudsen12) (1.35.0)\n",
            "Requirement already satisfied: protobuf<3.20,>=3.9.2 in /usr/local/lib/python3.7/dist-packages (from tensorboard>=2.9.1->pytorch-lightning->cloudsen12) (3.17.3)\n",
            "Requirement already satisfied: grpcio>=1.24.3 in /usr/local/lib/python3.7/dist-packages (from tensorboard>=2.9.1->pytorch-lightning->cloudsen12) (1.48.1)\n",
            "Requirement already satisfied: tensorboard-plugin-wit>=1.6.0 in /usr/local/lib/python3.7/dist-packages (from tensorboard>=2.9.1->pytorch-lightning->cloudsen12) (1.8.1)\n",
            "Requirement already satisfied: absl-py>=0.4 in /usr/local/lib/python3.7/dist-packages (from tensorboard>=2.9.1->pytorch-lightning->cloudsen12) (1.2.0)\n",
            "Requirement already satisfied: tensorboard-data-server<0.7.0,>=0.6.0 in /usr/local/lib/python3.7/dist-packages (from tensorboard>=2.9.1->pytorch-lightning->cloudsen12) (0.6.1)\n",
            "Requirement already satisfied: rsa<5,>=3.1.4 in /usr/local/lib/python3.7/dist-packages (from google-auth<3,>=1.6.3->tensorboard>=2.9.1->pytorch-lightning->cloudsen12) (4.9)\n",
            "Requirement already satisfied: cachetools<5.0,>=2.0.0 in /usr/local/lib/python3.7/dist-packages (from google-auth<3,>=1.6.3->tensorboard>=2.9.1->pytorch-lightning->cloudsen12) (4.2.4)\n",
            "Requirement already satisfied: pyasn1-modules>=0.2.1 in /usr/local/lib/python3.7/dist-packages (from google-auth<3,>=1.6.3->tensorboard>=2.9.1->pytorch-lightning->cloudsen12) (0.2.8)\n",
            "Requirement already satisfied: requests-oauthlib>=0.7.0 in /usr/local/lib/python3.7/dist-packages (from google-auth-oauthlib<0.5,>=0.4.1->tensorboard>=2.9.1->pytorch-lightning->cloudsen12) (1.3.1)\n",
            "Requirement already satisfied: importlib-metadata>=4.4 in /usr/local/lib/python3.7/dist-packages (from markdown>=2.6.8->tensorboard>=2.9.1->pytorch-lightning->cloudsen12) (4.12.0)\n",
            "Requirement already satisfied: zipp>=0.5 in /usr/local/lib/python3.7/dist-packages (from importlib-metadata>=4.4->markdown>=2.6.8->tensorboard>=2.9.1->pytorch-lightning->cloudsen12) (3.8.1)\n",
            "Requirement already satisfied: pyasn1<0.5.0,>=0.4.6 in /usr/local/lib/python3.7/dist-packages (from pyasn1-modules>=0.2.1->google-auth<3,>=1.6.3->tensorboard>=2.9.1->pytorch-lightning->cloudsen12) (0.4.8)\n",
            "Requirement already satisfied: chardet<4,>=3.0.2 in /usr/local/lib/python3.7/dist-packages (from requests[socks]->gdown->cloudsen12) (3.0.4)\n",
            "Requirement already satisfied: urllib3!=1.25.0,!=1.25.1,<1.26,>=1.21.1 in /usr/local/lib/python3.7/dist-packages (from requests[socks]->gdown->cloudsen12) (1.24.3)\n",
            "Requirement already satisfied: idna<3,>=2.5 in /usr/local/lib/python3.7/dist-packages (from requests[socks]->gdown->cloudsen12) (2.10)\n",
            "Requirement already satisfied: certifi>=2017.4.17 in /usr/local/lib/python3.7/dist-packages (from requests[socks]->gdown->cloudsen12) (2022.6.15)\n",
            "Requirement already satisfied: oauthlib>=3.0.0 in /usr/local/lib/python3.7/dist-packages (from requests-oauthlib>=0.7.0->google-auth-oauthlib<0.5,>=0.4.1->tensorboard>=2.9.1->pytorch-lightning->cloudsen12) (3.2.0)\n",
            "Requirement already satisfied: PySocks!=1.5.7,>=1.5.6 in /usr/local/lib/python3.7/dist-packages (from requests[socks]->gdown->cloudsen12) (1.7.1)\n",
            "Collecting rasterio\n",
            "  Downloading rasterio-1.2.10-cp37-cp37m-manylinux1_x86_64.whl (19.3 MB)\n",
            "\u001b[K     |████████████████████████████████| 19.3 MB 1.2 MB/s \n",
            "\u001b[?25hCollecting pyproj>=2.2\n",
            "  Downloading pyproj-3.2.1-cp37-cp37m-manylinux2010_x86_64.whl (6.3 MB)\n",
            "\u001b[K     |████████████████████████████████| 6.3 MB 54.2 MB/s \n",
            "\u001b[?25hRequirement already satisfied: xarray>=0.17 in /usr/local/lib/python3.7/dist-packages (from rioxarray->maskay->cloudsen12) (0.20.2)\n",
            "Requirement already satisfied: pandas>=1.1 in /usr/local/lib/python3.7/dist-packages (from xarray>=0.17->rioxarray->maskay->cloudsen12) (1.3.5)\n",
            "Requirement already satisfied: pytz>=2017.3 in /usr/local/lib/python3.7/dist-packages (from pandas>=1.1->xarray>=0.17->rioxarray->maskay->cloudsen12) (2022.2.1)\n",
            "Requirement already satisfied: click>=4.0 in /usr/local/lib/python3.7/dist-packages (from rasterio->rioxarray->maskay->cloudsen12) (7.1.2)\n",
            "Collecting cligj>=0.5\n",
            "  Downloading cligj-0.7.2-py3-none-any.whl (7.1 kB)\n",
            "Collecting click-plugins\n",
            "  Downloading click_plugins-1.1.1-py2.py3-none-any.whl (7.5 kB)\n",
            "Collecting affine\n",
            "  Downloading affine-2.3.1-py2.py3-none-any.whl (16 kB)\n",
            "Collecting snuggs>=1.4.1\n",
            "  Downloading snuggs-1.4.7-py3-none-any.whl (5.4 kB)\n",
            "Collecting pretrainedmodels==0.7.4\n",
            "  Downloading pretrainedmodels-0.7.4.tar.gz (58 kB)\n",
            "\u001b[K     |████████████████████████████████| 58 kB 5.9 MB/s \n",
            "\u001b[?25hCollecting efficientnet-pytorch==0.7.1\n",
            "  Downloading efficientnet_pytorch-0.7.1.tar.gz (21 kB)\n",
            "Requirement already satisfied: pillow in /usr/local/lib/python3.7/dist-packages (from segmentation-models-pytorch->cloudsen12) (7.1.2)\n",
            "Requirement already satisfied: torchvision>=0.5.0 in /usr/local/lib/python3.7/dist-packages (from segmentation-models-pytorch->cloudsen12) (0.13.1+cu113)\n",
            "Collecting timm==0.4.12\n",
            "  Downloading timm-0.4.12-py3-none-any.whl (376 kB)\n",
            "\u001b[K     |████████████████████████████████| 376 kB 39.6 MB/s \n",
            "\u001b[?25hCollecting munch\n",
            "  Downloading munch-2.5.0-py2.py3-none-any.whl (10 kB)\n",
            "Building wheels for collected packages: rioxarray, efficientnet-pytorch, pretrainedmodels\n",
            "  Building wheel for rioxarray (PEP 517) ... \u001b[?25l\u001b[?25hdone\n",
            "  Created wheel for rioxarray: filename=rioxarray-0.9.1-py3-none-any.whl size=54611 sha256=2b69a9558f9bd1826d04e9d8356ab2d422f18abdbd4a9eb41052230416cccae5\n",
            "  Stored in directory: /root/.cache/pip/wheels/07/da/9e/1cc57b2e7a29a206893db83e984a341e2e94378263e0798229\n",
            "  Building wheel for efficientnet-pytorch (setup.py) ... \u001b[?25l\u001b[?25hdone\n",
            "  Created wheel for efficientnet-pytorch: filename=efficientnet_pytorch-0.7.1-py3-none-any.whl size=16446 sha256=bc2e0b1954818b15494e746a2fbefeeb6a7000a142fe7d041c06652129809f0b\n",
            "  Stored in directory: /root/.cache/pip/wheels/0e/cc/b2/49e74588263573ff778da58cc99b9c6349b496636a7e165be6\n",
            "  Building wheel for pretrainedmodels (setup.py) ... \u001b[?25l\u001b[?25hdone\n",
            "  Created wheel for pretrainedmodels: filename=pretrainedmodels-0.7.4-py3-none-any.whl size=60965 sha256=120a59d430a185a736bee3d30532935f25ad8da9834edbccdea49a84a918c708\n",
            "  Stored in directory: /root/.cache/pip/wheels/ed/27/e8/9543d42de2740d3544db96aefef63bda3f2c1761b3334f4873\n",
            "Successfully built rioxarray efficientnet-pytorch pretrainedmodels\n",
            "Installing collected packages: snuggs, cligj, click-plugins, affine, rasterio, pyproj, munch, torchmetrics, timm, tensorboard, rioxarray, pyDeprecate, pretrainedmodels, efficientnet-pytorch, segmentation-models-pytorch, pytorch-lightning, pystac, maskay, cloudsen12\n",
            "  Attempting uninstall: tensorboard\n",
            "    Found existing installation: tensorboard 2.8.0\n",
            "    Uninstalling tensorboard-2.8.0:\n",
            "      Successfully uninstalled tensorboard-2.8.0\n",
            "\u001b[31mERROR: pip's dependency resolver does not currently take into account all the packages that are installed. This behaviour is the source of the following dependency conflicts.\n",
            "tensorflow 2.8.2+zzzcolab20220719082949 requires tensorboard<2.9,>=2.8, but you have tensorboard 2.10.0 which is incompatible.\u001b[0m\n",
            "Successfully installed affine-2.3.1 click-plugins-1.1.1 cligj-0.7.2 cloudsen12-0.0.3 efficientnet-pytorch-0.7.1 maskay-0.0.1.6 munch-2.5.0 pretrainedmodels-0.7.4 pyDeprecate-0.3.2 pyproj-3.2.1 pystac-1.5.0 pytorch-lightning-1.7.6 rasterio-1.2.10 rioxarray-0.9.1 segmentation-models-pytorch-0.3.0 snuggs-1.4.7 tensorboard-2.10.0 timm-0.4.12 torchmetrics-0.9.3\n"
          ]
        }
      ],
      "source": [
        "!pip install cloudsen12"
      ]
    },
    {
      "cell_type": "code",
      "execution_count": null,
      "metadata": {
        "id": "Fj8GNFViQj4B"
      },
      "outputs": [],
      "source": [
        "import cloudsen12"
      ]
    },
    {
      "cell_type": "markdown",
      "metadata": {
        "id": "NUqHfDQGKTDs"
      },
      "source": [
        "### **2. Load cloudSEN12 STAC**"
      ]
    },
    {
      "cell_type": "code",
      "execution_count": null,
      "metadata": {
        "colab": {
          "base_uri": "https://localhost:8080/"
        },
        "id": "oGYpzi6zPDR3",
        "outputId": "45bbab35-5afd-4925-9b6f-1e55bcddce20"
      },
      "outputs": [
        {
          "name": "stderr",
          "output_type": "stream",
          "text": [
            "Downloading...\n",
            "From: https://drive.google.com/uc?id=1oepqeteGXKJCXzIRzc6lXpNEV5eFGGsF\n",
            "To: /root/.config/cloudsen12/cloudsen12_stac.pkl\n",
            "100%|██████████| 183M/183M [00:01<00:00, 109MB/s]\n"
          ]
        }
      ],
      "source": [
        "cloudsen12_stac = cloudsen12.load()"
      ]
    },
    {
      "cell_type": "markdown",
      "metadata": {
        "id": "uQpFfHSxKVyV"
      },
      "source": [
        "### **3. Select a specific Item**"
      ]
    },
    {
      "cell_type": "code",
      "execution_count": null,
      "metadata": {
        "colab": {
          "base_uri": "https://localhost:8080/"
        },
        "id": "U2B3dT7yjW3M",
        "outputId": "32b2f274-87cc-4900-d226-dda348707567"
      },
      "outputs": [
        {
          "data": {
            "text/plain": [
              "{'CD-FCNN-RGBISWIR': <Asset href=https://drive.google.com/uc?export=download&id=1Cfm0Kf-w7EyfzaxeqQ_jX_WlsMNRQ2f8>,\n",
              " 'CD-FCNN-RGBI': <Asset href=https://drive.google.com/uc?export=download&id=1CryLnXgP4M3a5sbyVPHN7bnLyTnmUfzk>,\n",
              " 'sen2cor': <Asset href=https://drive.google.com/uc?export=download&id=1BwEAPzvzDyIINSsREF_EpmCs_u3xMRSu>,\n",
              " 'thumbnail': <Asset href=https://drive.google.com/uc?export=download&id=1AzpA3HQFvT_qPQcRHqv9143weRJeF3hW>,\n",
              " 's2cloudless': <Asset href=https://drive.google.com/uc?export=download&id=1ByI3KPC7w8pPvo9gA0zWn3RSNlAH8Bxr>,\n",
              " 'qa60': <Asset href=https://drive.google.com/uc?export=download&id=1ByMSwS-uFiN3DoXOk5eN0A8J4fE67Tpf>,\n",
              " 'manual_sc': <Asset href=https://drive.google.com/uc?export=download&id=1C-RK20aGF74HR4WxHvjIYwQDFnxpVeTz>,\n",
              " 'kappamask_L2A': <Asset href=https://drive.google.com/uc?export=download&id=1CI3iaklrUZKjp0NOgODevqEIl0ZgUXnl>,\n",
              " 'manual_hq': <Asset href=https://drive.google.com/uc?export=download&id=1C3SW5DPOBZEF1cCIrsIOhH8bIvH-vrA6>,\n",
              " 'kappamask_L1C': <Asset href=https://drive.google.com/uc?export=download&id=1COyoS2P_xaPqQT8fgoERjCqh3sBfG4Bk>,\n",
              " 'fmask': <Asset href=https://drive.google.com/uc?export=download&id=1COQbbSZ2YTW3EGxkxPDSEwa-ZtHwuy4W>,\n",
              " 'S2L2A': <Asset href=https://drive.google.com/uc?export=download&id=1B5TEv1hfoJPqAAdOxjlIuBj--qPucroP>,\n",
              " 'elevation': <Asset href=https://drive.google.com/uc?export=download&id=1CwptfUL-K2TwWXaTr2MmqU9cSMPkya80>,\n",
              " 'ocurrence': <Asset href=https://drive.google.com/uc?export=download&id=1CvGv_Z-nGcAE6s_ewmfvanJBiiRLc7FE>,\n",
              " 'S2L1C': <Asset href=https://drive.google.com/uc?export=download&id=1BEKTpluApXUA5g0NkAhOYZrML60pIy7i>,\n",
              " 'Shwdirection': <Asset href=https://drive.google.com/uc?export=download&id=1Cz_w_UbqwkRKXWsC7Xg0F9-qadqYOKau>,\n",
              " 'S1': <Asset href=https://drive.google.com/uc?export=download&id=1BFOiwFj7-yylZD5-bQiO6bCiENhnXq1v>,\n",
              " 'LC10': <Asset href=https://drive.google.com/uc?export=download&id=1D5QtU9gxPAMiGg0NxuH44_HFDUtEC6kX>,\n",
              " 'CDI': <Asset href=https://drive.google.com/uc?export=download&id=1D545xQAMVR0gXJmq4GR5RSM7lPDcdIVd>,\n",
              " 'LC100': <Asset href=https://drive.google.com/uc?export=download&id=1D59t8qLygoH8r1U_vUhhLNq4WGj77_FW>}"
            ]
          },
          "execution_count": 5,
          "metadata": {},
          "output_type": "execute_result"
        }
      ],
      "source": [
        "# assets\n",
        "# Get a specific item\n",
        "item = cloudsen12_stac.get_item(\"ROI_1927__S2A_MSIL1C_20190516T142801_N0207_R053_T20PRU_20190516T160654\")\n",
        "item.assets"
      ]
    },
    {
      "cell_type": "code",
      "execution_count": null,
      "metadata": {
        "colab": {
          "base_uri": "https://localhost:8080/"
        },
        "id": "skP3fU7EKryX",
        "outputId": "ee97c20a-b3ee-406d-fef2-43f84a274133"
      },
      "outputs": [
        {
          "data": {
            "text/plain": [
              "{'roi_id': 'ROI_1927',\n",
              " 's2_id_gee': '20190516T142801_20190516T142756_T20PRU',\n",
              " 's2_id': 'S2A_MSIL1C_20190516T142801_N0207_R053_T20PRU_20190516T160654',\n",
              " 's2_sen2cor_version': 'N02.12',\n",
              " 's2_fmask_version': '4.3.0',\n",
              " 's2_cloudless_version': '1.5.0',\n",
              " 's2_reflectance_conversion_correction': 0.979971675985,\n",
              " 's2_aot_retrieval_accuracy': 0,\n",
              " 's2_view_off_nadir': 0,\n",
              " 's2_view_sun_azimuth': 68.6415914444,\n",
              " 's2_view_sun_elevation': 68.2016649832,\n",
              " 's1_id': 'S1A_IW_GRDH_1SDV_20190518T221004_20190518T221029_027288_0313C4_26A0',\n",
              " 's1_date': '2019-05-18T22:10:04Z',\n",
              " 's1_grd_post_processing_software_name': 'Sentinel-1 IPF',\n",
              " 's1_slc_processing_facility_name': 'Copernicus S1 Core Ground Segment - UPA',\n",
              " 's1_slc_processing_software_version': 2.91,\n",
              " 's1_radar_coverage': 1.0,\n",
              " 'land_cover': 80,\n",
              " 'label_type': 'nolabel',\n",
              " 'cloud_coverage': 'almost-clear',\n",
              " 'test': 0,\n",
              " 'difficulty': nan,\n",
              " 'proj:centroid': {'lat': 12.17446, 'lon': -59.26394},\n",
              " 'proj:epsg': 32620,\n",
              " 'proj:shape': 509,\n",
              " 'proj:transform': [10.0, 0.0, 904160.0, 0.0, -10.0, 1351190.0],\n",
              " 'proj:geometry': {'type': 'Polygon',\n",
              "  'coordinates': (((904160.0, 1346100.0),\n",
              "    (909250.0, 1346100.0),\n",
              "    (909250.0, 1351190.0),\n",
              "    (904160.0, 1351190.0),\n",
              "    (904160.0, 1346100.0)),)},\n",
              " 'proj:bbox': [904160.0, 1346100.0, 909250.0, 1351190.0]}"
            ]
          },
          "execution_count": 6,
          "metadata": {},
          "output_type": "execute_result"
        }
      ],
      "source": [
        "# properties\n",
        "item.properties"
      ]
    },
    {
      "cell_type": "markdown",
      "metadata": {
        "id": "hHM7Cx2uKaB_"
      },
      "source": [
        "### **4. Filter by properties**"
      ]
    },
    {
      "cell_type": "code",
      "execution_count": null,
      "metadata": {
        "colab": {
          "base_uri": "https://localhost:8080/"
        },
        "id": "lcfhdyDDi-Cv",
        "outputId": "55ca09cb-4015-4b49-ac06-d4e7631abe2f"
      },
      "outputs": [
        {
          "name": "stdout",
          "output_type": "stream",
          "text": [
            "* <Collection id=CloudSEN12>\n",
            "  * <Item id=ROI_0005__S2B_MSIL1C_20190502T153629_N0207_R068_T17MNP_20190502T202911>\n",
            "  * <Item id=ROI_0006__S2A_MSIL1C_20190806T150721_N0208_R082_T18LWJ_20190806T182907>\n",
            "  * <Item id=ROI_0070__S2B_MSIL1C_20190419T152649_N0207_R025_T17LRJ_20190419T201839>\n",
            "  * <Item id=ROI_0071__S2B_MSIL1C_20190708T152649_N0208_R025_T17LQL_20190708T201903>\n",
            "  * <Item id=ROI_0072__S2B_MSIL1C_20190715T151709_N0208_R125_T18LVJ_20190715T200634>\n",
            "  * <Item id=ROI_0073__S2A_MSIL1C_20191124T150721_N0208_R082_T18LXH_20191124T182322>\n",
            "  * <Item id=ROI_0075__S2A_MSIL1C_20190112T144731_N0207_R139_T19KDV_20190112T163226>\n",
            "  * <Item id=ROI_0103__S2B_MSIL1C_20190417T144739_N0207_R139_T19KCA_20190417T180757>\n",
            "  * <Item id=ROI_0104__S2B_MSIL1C_20190530T145739_N0207_R039_T18KYG_20190530T181141>\n",
            "  * <Item id=ROI_0105__S2A_MSIL1C_20200323T150721_N0209_R082_T18LWH_20200323T200245>\n",
            "  * <Item id=ROI_0106__S2B_MSIL1C_20200304T152639_N0209_R025_T18LTN_20200304T201201>\n",
            "  * <Item id=ROI_0107__S2B_MSIL1C_20190419T152649_N0207_R025_T17LQK_20190419T201839>\n",
            "  * <Item id=ROI_0355__S2A_MSIL1C_20200617T152651_N0209_R025_T18LTQ_20200617T221812>\n",
            "  * <Item id=ROI_0386__S2B_MSIL1C_20200709T151709_N0209_R125_T18LUM_20200709T184134>\n",
            "  * <Item id=ROI_0387__S2A_MSIL1C_20190521T151711_N0207_R125_T18LUM_20190521T201255>\n",
            "  * <Item id=ROI_0421__S2B_MSIL1C_20190729T145739_N0208_R039_T18LYL_20190729T181225>\n",
            "  * <Item id=ROI_0428__S2A_MSIL1C_20200127T144701_N0208_R139_T19LDD_20200127T180948>\n",
            "  * <Item id=ROI_0451__S2A_MSIL1C_20191201T145721_N0208_R039_T18LYH_20191201T181028>\n"
          ]
        }
      ],
      "source": [
        "import datetime \n",
        "\n",
        "# Filter by properties\n",
        "query = {\n",
        "    \"difficulty\": {\"lte\": 5, \"gt\": 1},\n",
        "    \"cloud_coverage\": {\"eq\": [\"clear\", \"almost-clear\"]},    \n",
        "    \"land_cover\": {\"eq\": 60}\n",
        "}\n",
        "\n",
        "# Filter by regions (GeoJSON)\n",
        "polygon = {\n",
        "    \"type\": \"Polygon\",\n",
        "    \"coordinates\": [\n",
        "          [\n",
        "            [-82.08984375, -19.145168196205297],\n",
        "            [-66.2255859375, -19.145168196205297],\n",
        "            [-66.2255859375, 0.4394488164139768],\n",
        "            [-82.08984375, 0.4394488164139768],\n",
        "            [-82.08984375, -19.145168196205297]\n",
        "          ]        \n",
        "    ],\n",
        "}\n",
        "\n",
        "# Filter by dates\n",
        "init_date = datetime.datetime.strptime(\"2016-01-01\", '%Y-%m-%d')\n",
        "last_date = datetime.datetime.strptime(\"2022-12-31\", '%Y-%m-%d')\n",
        "datetime = [init_date, last_date]\n",
        "\n",
        "# Put all together!\n",
        "cloudsen12_stac_filtered = cloudsen12_stac.search(\n",
        "    bbox=polygon,\n",
        "    datetime=datetime,\n",
        "    query=query\n",
        ")\n",
        "cloudsen12_stac_filtered.describe()"
      ]
    },
    {
      "cell_type": "markdown",
      "metadata": {
        "id": "quusPex-qwsC"
      },
      "source": [
        "### **5. Download filtered cloudSEN12 collection**"
      ]
    },
    {
      "cell_type": "code",
      "execution_count": null,
      "metadata": {
        "colab": {
          "base_uri": "https://localhost:8080/"
        },
        "id": "IOFCyi_4EE0y",
        "outputId": "a4c36aaf-b171-4154-f69d-72c004a76e87"
      },
      "outputs": [
        {
          "name": "stderr",
          "output_type": "stream",
          "text": [
            "Downloading...\n",
            "From: https://drive.google.com/uc?export=download&id=1SY2TsAQ9_o820v5tLnrKpLFW3u01MbYd\n",
            "To: /content/S2L1C__ROI_0005__S2B_MSIL1C_20190502T153629_N0207_R068_T17MNP_20190502T202911.tif\n",
            "100%|██████████| 5.27M/5.27M [00:00<00:00, 58.6MB/s]\n",
            "Downloading...\n",
            "From: https://drive.google.com/uc?export=download&id=1PwgKwJsuJcwy46MkuXwuxyz4TbhzY3Yo\n",
            "To: /content/S2L1C__ROI_0006__S2A_MSIL1C_20190806T150721_N0208_R082_T18LWJ_20190806T182907.tif\n",
            "100%|██████████| 5.32M/5.32M [00:00<00:00, 25.8MB/s]\n",
            "Downloading...\n",
            "From: https://drive.google.com/uc?export=download&id=18Oh8DR-rj1Qs4xSGC9ZVxsxbrsPEapJ1\n",
            "To: /content/S2L1C__ROI_0070__S2B_MSIL1C_20190419T152649_N0207_R025_T17LRJ_20190419T201839.tif\n",
            "100%|██████████| 5.28M/5.28M [00:00<00:00, 26.4MB/s]\n",
            "Downloading...\n",
            "From: https://drive.google.com/uc?export=download&id=1Bp5ArIZd-J9sYuo5Su92RCMv1R8WdR0N\n",
            "To: /content/S2L1C__ROI_0071__S2B_MSIL1C_20190708T152649_N0208_R025_T17LQL_20190708T201903.tif\n",
            "100%|██████████| 5.31M/5.31M [00:00<00:00, 130MB/s]\n",
            "Downloading...\n",
            "From: https://drive.google.com/uc?export=download&id=1FeFsgz7v6phAnWLCAM0cPvg3_AC2au3M\n",
            "To: /content/S2L1C__ROI_0072__S2B_MSIL1C_20190715T151709_N0208_R125_T18LVJ_20190715T200634.tif\n",
            "100%|██████████| 5.38M/5.38M [00:00<00:00, 100MB/s]\n",
            "Downloading...\n",
            "From: https://drive.google.com/uc?export=download&id=1IvtRbXFKbrjc9CTxt5Qz4SADRuSf6dOR\n",
            "To: /content/S2L1C__ROI_0073__S2A_MSIL1C_20191124T150721_N0208_R082_T18LXH_20191124T182322.tif\n",
            "100%|██████████| 5.21M/5.21M [00:00<00:00, 96.3MB/s]\n",
            "Downloading...\n",
            "From: https://drive.google.com/uc?export=download&id=1Kygul_QRvknLVHY2qLLkKejBMnWvCz90\n",
            "To: /content/S2L1C__ROI_0075__S2A_MSIL1C_20190112T144731_N0207_R139_T19KDV_20190112T163226.tif\n",
            "100%|██████████| 5.40M/5.40M [00:00<00:00, 23.3MB/s]\n",
            "Downloading...\n",
            "From: https://drive.google.com/uc?export=download&id=1RHf7TdU_LOUyJ1KGHiFMtsYQD25OfpHm\n",
            "To: /content/S2L1C__ROI_0103__S2B_MSIL1C_20190417T144739_N0207_R139_T19KCA_20190417T180757.tif\n",
            "100%|██████████| 5.16M/5.16M [00:00<00:00, 103MB/s]\n",
            "Downloading...\n",
            "From: https://drive.google.com/uc?export=download&id=1LXW6gBNPL4U6KAQuDAt1nldGwrDh8awh\n",
            "To: /content/S2L1C__ROI_0104__S2B_MSIL1C_20190530T145739_N0207_R039_T18KYG_20190530T181141.tif\n",
            "100%|██████████| 5.29M/5.29M [00:00<00:00, 142MB/s]\n",
            "Downloading...\n",
            "From: https://drive.google.com/uc?export=download&id=1ZaDPg0XJ7bvVRA7sOoMvdceqYNIg8J3k\n",
            "To: /content/S2L1C__ROI_0105__S2A_MSIL1C_20200323T150721_N0209_R082_T18LWH_20200323T200245.tif\n",
            "100%|██████████| 5.41M/5.41M [00:00<00:00, 15.1MB/s]\n",
            "Downloading...\n",
            "From: https://drive.google.com/uc?export=download&id=1dOpQ25Adn9eIVm-3DCZY8GklI2QmlU0F\n",
            "To: /content/S2L1C__ROI_0106__S2B_MSIL1C_20200304T152639_N0209_R025_T18LTN_20200304T201201.tif\n",
            "100%|██████████| 5.28M/5.28M [00:00<00:00, 28.5MB/s]\n",
            "Downloading...\n",
            "From: https://drive.google.com/uc?export=download&id=1aHV07UN6oMvGCTR7RMUdxaQXNsvdCADE\n",
            "To: /content/S2L1C__ROI_0107__S2B_MSIL1C_20190419T152649_N0207_R025_T17LQK_20190419T201839.tif\n",
            "100%|██████████| 5.41M/5.41M [00:00<00:00, 88.6MB/s]\n",
            "Downloading...\n",
            "From: https://drive.google.com/uc?export=download&id=1XEwzXrv_6CkleEWtoOd0iG8qAOt-B0u1\n",
            "To: /content/S2L1C__ROI_0355__S2A_MSIL1C_20200617T152651_N0209_R025_T18LTQ_20200617T221812.tif\n",
            "100%|██████████| 5.53M/5.53M [00:00<00:00, 102MB/s]\n",
            "Downloading...\n",
            "From: https://drive.google.com/uc?export=download&id=1tVivyc9zszZijeHMv2t5VsqBwByaOlCc\n",
            "To: /content/S2L1C__ROI_0386__S2B_MSIL1C_20200709T151709_N0209_R125_T18LUM_20200709T184134.tif\n",
            "100%|██████████| 5.67M/5.67M [00:00<00:00, 20.9MB/s]\n",
            "Downloading...\n",
            "From: https://drive.google.com/uc?export=download&id=1wj0Uv6YShRqHolJnIq1eLKt0p4gzxRzM\n",
            "To: /content/S2L1C__ROI_0387__S2A_MSIL1C_20190521T151711_N0207_R125_T18LUM_20190521T201255.tif\n",
            "100%|██████████| 5.79M/5.79M [00:00<00:00, 92.8MB/s]\n",
            "Downloading...\n",
            "From: https://drive.google.com/uc?export=download&id=1l1qicwFA0DplXukstsojLIippNEexEiM\n",
            "To: /content/S2L1C__ROI_0421__S2B_MSIL1C_20190729T145739_N0208_R039_T18LYL_20190729T181225.tif\n",
            "100%|██████████| 5.79M/5.79M [00:00<00:00, 93.0MB/s]\n",
            "Downloading...\n",
            "From: https://drive.google.com/uc?export=download&id=12DKWwMC2VKEzbDgRDF6h_zDPPfnJmScO\n",
            "To: /content/S2L1C__ROI_0428__S2A_MSIL1C_20200127T144701_N0208_R139_T19LDD_20200127T180948.tif\n",
            "100%|██████████| 5.66M/5.66M [00:00<00:00, 70.0MB/s]\n",
            "Downloading...\n",
            "From: https://drive.google.com/uc?export=download&id=1oHVifAZxVQQKHdDdMOuH8HSlmPOcHaYK\n",
            "To: /content/S2L1C__ROI_0451__S2A_MSIL1C_20191201T145721_N0208_R039_T18LYH_20191201T181028.tif\n",
            "100%|██████████| 5.47M/5.47M [00:00<00:00, 25.0MB/s]\n"
          ]
        }
      ],
      "source": [
        "import gdown\n",
        "\n",
        "for item in cloudsen12_stac_filtered.get_all_items():\n",
        "    s2file = item.assets[\"S2L1C\"].href\n",
        "    gdown.download(s2file, \"S2L1C__%s.tif\" % item.id, quiet=False)"
      ]
    },
    {
      "cell_type": "code",
      "execution_count": null,
      "metadata": {
        "id": "RrjAz2nMM4gl"
      },
      "outputs": [],
      "source": []
    }
  ],
  "metadata": {
    "colab": {
      "collapsed_sections": [],
      "provenance": []
    },
    "kernelspec": {
      "display_name": "Python 3.8.10 64-bit",
      "language": "python",
      "name": "python3"
    },
    "language_info": {
      "name": "python",
      "version": "3.8.10"
    },
    "vscode": {
      "interpreter": {
        "hash": "31f2aee4e71d21fbe5cf8b01ff0e069b9275f58929596ceb00d14d90e3e16cd6"
      }
    }
  },
  "nbformat": 4,
  "nbformat_minor": 0
}
