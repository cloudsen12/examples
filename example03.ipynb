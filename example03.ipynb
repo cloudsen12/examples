{
  "cells": [
    {
      "cell_type": "markdown",
      "metadata": {
        "id": "DQBLxl6rDY6X"
      },
      "source": [
        "<a href=\"https://colab.research.google.com/github/cloudsen12/examples/blob/master/example03.ipynb\"><img align=\"left\" src=\"https://colab.research.google.com/assets/colab-badge.svg\" alt=\"Open in Colab\" title=\"Open and Execute in Google Colaboratory\"></a>\n",
        "\n",
        "<br><br>\n",
        "\n",
        "<!--COURSE_INFORMATION-->\n",
        "<img align=\"left\" style=\"padding-right:10px;\" src=\"https://cloudsen12.github.io/thumbnails/cloudsen12.gif\" width=10% >\n",
        "\n",
        "\n",
        ">>>> *This notebook is part of the paper [CloudSEN12 - a global dataset for semantic understanding of cloud and cloud shadow in Sentinel-2](https://cloudsen12.github.io/); the content is available [on GitHub](https://github.com/cloudsen12)* and released under the [MIT](https://opensource.org/licenses/MIT) license. \n",
        "\n",
        "<br>\n",
        "\n",
        "- See our paper [here](https://eartharxiv.org/repository/view/3615/).\n",
        "\n",
        "- See cloudSEN12 website [here](https://cloudsen12.github.io/).\n",
        "\n",
        "- See cloudSEN12 in Zenodo [here](https://zenodo.org/record/7034410).\n",
        "\n",
        "- See cloudSEN12 in Google Drive [here](https://drive.google.com/drive/folders/1H_Qxy1yX6moqFbKc3Ajn4FFrHlDhYuz3).\n",
        "\n",
        "- See cloudSEN12 in GitHub [here](https://github.com/cloudsen12).\n",
        "\n",
        "- See cloudSEN12 in Google Earth Engine [here](https://samapriya.github.io/awesome-gee-community-datasets/projects/cloudsen12/).\n",
        "\n",
        "- See CloudApp [here](https://csaybar.users.earthengine.app/view/cloudapp)."
      ]
    },
    {
      "cell_type": "markdown",
      "metadata": {
        "id": "zcfL08pHDsz4"
      },
      "source": [
        "### **1. Install packages**"
      ]
    },
    {
      "cell_type": "code",
      "execution_count": null,
      "metadata": {
        "id": "U4f9blCmEMHY"
      },
      "outputs": [],
      "source": [
        "!pip install albumentations --upgrade\n",
        "!pip install --upgrade opencv-python\n",
        "!pip install --upgrade opencv-contrib-python\n",
        "!pip install --upgrade opencv-python-headless\n",
        "!pip install rasterio --upgrade\n",
        "!pip install segmentation_models_pytorch --upgrade\n",
        "!pip install pytorch-lightning\n",
        "!pip install wandb\n",
        "!pip install torchmetrics --upgrade"
      ]
    },
    {
      "cell_type": "markdown",
      "metadata": {
        "id": "wdPnOnDDFDt1"
      },
      "source": [
        "### **2. From Drive to the local computer**\n",
        "\n",
        "Link: **https://drive.google.com/drive/u/0/folders/1H_Qxy1yX6moqFbKc3Ajn4FFrHlDhYuz3**\n",
        "\n",
        "![](https://user-images.githubusercontent.com/16768318/192451226-a267eacd-4440-46fc-887e-f475b8893c33.png)"
      ]
    },
    {
      "cell_type": "code",
      "execution_count": 2,
      "metadata": {
        "colab": {
          "base_uri": "https://localhost:8080/"
        },
        "id": "a_tXBnjurIXW",
        "outputId": "5c7d7d8f-85fe-4f09-afba-5de7812a45ff"
      },
      "outputs": [
        {
          "name": "stdout",
          "output_type": "stream",
          "text": [
            "Mounted at /content/drive\n"
          ]
        }
      ],
      "source": [
        "from google.colab import drive\n",
        "drive.mount('/content/drive')"
      ]
    },
    {
      "cell_type": "markdown",
      "metadata": {
        "id": "3WB4v3MlFjMO"
      },
      "source": [
        "### **3. Load cloudSEN12**"
      ]
    },
    {
      "cell_type": "code",
      "execution_count": 3,
      "metadata": {
        "id": "nYMwWcDbE8S6"
      },
      "outputs": [],
      "source": [
        "import pandas as pd\n",
        "\n",
        "# load the dataset\n",
        "dataset_metadata = pd.read_csv(\"/content/drive/MyDrive/version01/cloudsen12_metadata.csv\")\n",
        "dataset_metadata_high = dataset_metadata[dataset_metadata[\"label_type\"] == \"high\"]\n",
        "\n",
        "# train/val/test split\n",
        "train_val_db = dataset_metadata_high[dataset_metadata_high[\"test\"] == 0]\n",
        "train_val_db.reset_index(drop=True, inplace=True)\n",
        "\n",
        "# train dataset\n",
        "train_db = train_val_db.sample(frac=0.9, random_state=42)\n",
        "train_db.reset_index(drop=True, inplace=True)\n",
        "\n",
        "# val dataset\n",
        "val_db = train_val_db.drop(train_db.index)\n",
        "val_db.reset_index(drop=True, inplace=True)\n",
        "\n",
        "# test dataset\n",
        "test_db = dataset_metadata_high[dataset_metadata_high[\"test\"] == 1]\n",
        "test_db.reset_index(drop=True, inplace=True)\n",
        "\n",
        "DATASET = [train_db, val_db, test_db]"
      ]
    },
    {
      "cell_type": "markdown",
      "metadata": {
        "id": "1by0xftKg7BV"
      },
      "source": [
        "### **4. Define augmentation**"
      ]
    },
    {
      "cell_type": "code",
      "execution_count": 4,
      "metadata": {
        "id": "zSNLLsjmFWqf"
      },
      "outputs": [],
      "source": [
        "import albumentations as A\n",
        "import albumentations.pytorch\n",
        "\n",
        "# Non destructive transformations - Dehidral group D4\n",
        "nodestructive_pipe = A.OneOf([\n",
        "    A.HorizontalFlip(p=0.5),\n",
        "    A.VerticalFlip(p=0.5),\n",
        "    A.RandomRotate90(p=0.5),\n",
        "    A.Transpose(p=0.5)\n",
        "], p=1)\n",
        "\n",
        "weak_augmentation = A.Compose([\n",
        "    A.PadIfNeeded(min_height=512, min_width=512, p=1, always_apply=True),\n",
        "    nodestructive_pipe,\n",
        "    albumentations.pytorch.transforms.ToTensorV2()\n",
        "])\n",
        "\n",
        "no_augmentation = A.Compose([\n",
        "    A.PadIfNeeded(min_height=512, min_width=512, p=1, always_apply=True),    \n",
        "    albumentations.pytorch.transforms.ToTensorV2()\n",
        "])\n",
        "\n",
        "AUGMENTATION=weak_augmentation"
      ]
    },
    {
      "cell_type": "markdown",
      "metadata": {
        "id": "gVSxXk5XiDdc"
      },
      "source": [
        "### **5. Define the data DataLoader**"
      ]
    },
    {
      "cell_type": "code",
      "execution_count": 5,
      "metadata": {
        "id": "dkD-8j3riBHn"
      },
      "outputs": [],
      "source": [
        "import torch\n",
        "import numpy as np\n",
        "import rasterio as rio\n",
        "import warnings\n",
        "\n",
        "# Create a DataLoader object.\n",
        "class SEGDATALOADER(torch.utils.data.DataLoader):\n",
        "    def __init__(self, dataset, augmentation=False):\n",
        "        self.dataset = dataset\n",
        "        self.augmentation = augmentation\n",
        "    def __len__(self):\n",
        "        return len(self.dataset)\n",
        "\n",
        "    def __getitem__(self, index: int):\n",
        "        # Select the S2 and ROI id\n",
        "        roi_id = self.dataset.loc[index, \"roi_id\"]\n",
        "        s2_id = self.dataset.loc[index, \"s2_id_gee\"]\n",
        "\n",
        "        # Load the numpy file\n",
        "        s2l1c = f\"/content/drive/MyDrive/version01/high/%s/%s/S2L1C.tif\" % (roi_id, s2_id)\n",
        "        with rio.open(s2l1c) as src:\n",
        "            X = src.read()/10000 # B4, B3, B2\n",
        "            X = np.moveaxis(X, 0, -1)\n",
        "            #X = np.moveaxis(X, -1, 0)\n",
        "\n",
        "        # Load target image.\n",
        "        target = f\"/content/drive/MyDrive/version01/high/%s/%s/labels/manual_hq.tif\" % (roi_id, s2_id)\n",
        "        with rio.open(target) as src:\n",
        "            y = src.read(1)\n",
        "        \n",
        "        # Augmentation pipeline\n",
        "        if self.augmentation:\n",
        "            X, y = self.augmentation(image=X, mask=y).values()\n",
        "            #X = np.moveaxis(X, -1, 0)\n",
        "            \n",
        "        # Check semantic_segmentation_pytorch model input shape requirements.                                \n",
        "        if X.shape[0] > X.shape[2]:\n",
        "            warnings.warn(\n",
        "                \"segmentation_models.pytorch expects channels first (B, C, H, W)\"\n",
        "            )\n",
        "        return X, y, \"%s__%s\" % (roi_id, s2_id)"
      ]
    },
    {
      "cell_type": "code",
      "execution_count": 6,
      "metadata": {
        "colab": {
          "base_uri": "https://localhost:8080/",
          "height": 304
        },
        "id": "5ZaYU1plkSuf",
        "outputId": "684585a0-0ff3-433f-a551-8672484ef7ab"
      },
      "outputs": [
        {
          "data": {
            "image/png": "[encoded data removed]",
            "text/plain": [
              "<Figure size 720x720 with 2 Axes>"
            ]
          },
          "metadata": {
            "needs_background": "light"
          },
          "output_type": "display_data"
        }
      ],
      "source": [
        "# Simple check\n",
        "import matplotlib.pyplot as plt\n",
        "\n",
        "# check dataloader\n",
        "dataloader = SEGDATALOADER(dataset=DATASET[0], augmentation=weak_augmentation)\n",
        "X, y, name = dataloader[100]\n",
        "\n",
        "# create matplolib subfigure 2x1\n",
        "fix, ax = plt.subplots(1, 2, figsize=(10, 10))\n",
        "ax[0].imshow(X.moveaxis(0, 2)[:,:,[3,2,1]])\n",
        "ax[1].imshow(y)\n",
        "plt.show()"
      ]
    },
    {
      "cell_type": "markdown",
      "metadata": {
        "id": "AiGnnqftm7z2"
      },
      "source": [
        "### **6. Define a model**"
      ]
    },
    {
      "cell_type": "code",
      "execution_count": 7,
      "metadata": {
        "id": "yCvwpuxMm8Ku"
      },
      "outputs": [],
      "source": [
        "import segmentation_models_pytorch as smp \n",
        "SEGMODEL = smp.Unet(\n",
        "        encoder_name=\"mobilenet_v2\",\n",
        "        encoder_weights=None,\n",
        "        classes=4,\n",
        "        in_channels=13        \n",
        ")"
      ]
    },
    {
      "cell_type": "markdown",
      "metadata": {
        "id": "UQIobem9fsbm"
      },
      "source": [
        "### **7. Define a loss**"
      ]
    },
    {
      "cell_type": "code",
      "execution_count": 8,
      "metadata": {
        "id": "Rj8PqP2lfo9b"
      },
      "outputs": [],
      "source": [
        "class CrossEntropyLoss(torch.nn.Module):\n",
        "    def __init__(self):\n",
        "        super().__init__()\n",
        "\n",
        "    def forward(self, input, target):\n",
        "        # flatten label and prediction tensors\n",
        "        #input = input.view(-1)\n",
        "        target = target.type(torch.long)\n",
        "        BCE = torch.nn.functional.cross_entropy(input, target)\n",
        "        return BCE\n",
        "        \n",
        "CRITERION = CrossEntropyLoss()"
      ]
    },
    {
      "cell_type": "markdown",
      "metadata": {
        "id": "VK8hkUeufyKC"
      },
      "source": [
        "### **8. Define metrics**"
      ]
    },
    {
      "cell_type": "code",
      "execution_count": 9,
      "metadata": {
        "id": "iHn1fV8TgBw9"
      },
      "outputs": [],
      "source": [
        "import torch\n",
        "from torchmetrics import Metric\n",
        "from sklearn.metrics import fbeta_score, recall_score, precision_score\n",
        "\n",
        "class BF2score(Metric):\n",
        "\n",
        "    is_differentiable: bool = False\n",
        "    higher_is_better: bool = True\n",
        "    full_state_update: bool = False\n",
        "\n",
        "    def __init__(self, thershold: float = 0.90):\n",
        "        super().__init__()\n",
        "        self.add_state(\"container\", default=torch.tensor(0), dist_reduce_fx=\"sum\")        \n",
        "        self.add_state(\"total\", default=torch.tensor(0), dist_reduce_fx=\"sum\")\n",
        "        self.thershold = thershold\n",
        "\n",
        "    def update(self, preds: torch.Tensor, target: torch.Tensor):\n",
        "        assert preds.shape == target.shape\n",
        "        score_container = list()\n",
        "        for index in range(preds.shape[0]):\n",
        "            score_container.append(fbeta_score(target[index].flatten().detach().cpu(), preds[index].flatten().detach().cpu(), average='macro', beta=2, zero_division=1))\n",
        "        score_container = torch.Tensor(score_container)\n",
        "        gt_thershold = score_container.gt(self.thershold)        \n",
        "        self.container += torch.sum(gt_thershold)\n",
        "        self.total += preds.shape[0]\n",
        "\n",
        "    def compute(self):\n",
        "        return self.container/self.total*100\n",
        "\n",
        "class BPAscore(Metric):\n",
        "\n",
        "    is_differentiable: bool = False\n",
        "    higher_is_better: bool = True\n",
        "    full_state_update: bool = False\n",
        "\n",
        "    def __init__(self, thershold: float = 0.90):\n",
        "        super().__init__()\n",
        "        self.add_state(\"container\", default=torch.tensor(0), dist_reduce_fx=\"sum\")        \n",
        "        self.add_state(\"total\", default=torch.tensor(0), dist_reduce_fx=\"sum\")\n",
        "        self.thershold = thershold\n",
        "\n",
        "    def update(self, preds: torch.Tensor, target: torch.Tensor):\n",
        "        assert preds.shape == target.shape\n",
        "        score_container = list()\n",
        "        for index in range(preds.shape[0]):\n",
        "            score_container.append(recall_score(target[index].flatten().detach().cpu(), preds[index].flatten().detach().cpu(), average='macro', zero_division=1))\n",
        "        score_container = torch.Tensor(score_container)\n",
        "        gt_thershold = score_container.gt(self.thershold)        \n",
        "        self.container += torch.sum(gt_thershold)\n",
        "        self.total += preds.shape[0]\n",
        "\n",
        "    def compute(self):\n",
        "        return self.container/self.total*100\n",
        "\n",
        "\n",
        "class BUAscore(Metric):\n",
        "\n",
        "    is_differentiable: bool = False\n",
        "    higher_is_better: bool = True\n",
        "    full_state_update: bool = False\n",
        "\n",
        "    def __init__(self, thershold: float = 0.90):\n",
        "        super().__init__()\n",
        "        self.add_state(\"container\", default=torch.tensor(0), dist_reduce_fx=\"sum\")        \n",
        "        self.add_state(\"total\", default=torch.tensor(0), dist_reduce_fx=\"sum\")\n",
        "        self.thershold = thershold\n",
        "\n",
        "    def update(self, preds: torch.Tensor, target: torch.Tensor):\n",
        "        assert preds.shape == target.shape\n",
        "        score_container = list()\n",
        "        for index in range(preds.shape[0]):\n",
        "            score_container.append(precision_score(target[index].flatten().detach().cpu(), preds[index].flatten().detach().cpu(), average='macro', zero_division=1))\n",
        "        score_container = torch.Tensor(score_container)\n",
        "        gt_thershold = score_container.gt(self.thershold)        \n",
        "        self.container += torch.sum(gt_thershold)\n",
        "        self.total += preds.shape[0]\n",
        "\n",
        "    def compute(self):\n",
        "        return self.container/self.total*100\n",
        "\n",
        "METRICS = {\"f2_score\": BF2score(), \"pa_score\": BPAscore(), \"ua_score\": BUAscore()}"
      ]
    },
    {
      "cell_type": "markdown",
      "metadata": {
        "id": "1ggDrqJ3gI6i"
      },
      "source": [
        "### **9. Define the logger (OPTIONAL)**"
      ]
    },
    {
      "cell_type": "code",
      "execution_count": null,
      "metadata": {
        "id": "PjcxLqajgEXm"
      },
      "outputs": [],
      "source": [
        "import os\n",
        "from pytorch_lightning.loggers import WandbLogger\n",
        "import wandb\n",
        "\n",
        "#wandb.init(settings=wandb.Settings(start_method='fork'))\n",
        "os.environ[\"WANDB_API_KEY\"] = \"put_here_wandb_key\"\n",
        "LOGGER = WandbLogger(project=\"cloudseg\")"
      ]
    },
    {
      "cell_type": "markdown",
      "metadata": {
        "id": "ELF8RTL0gQ-n"
      },
      "source": [
        "### **10. Create a Pytorch-lighning model**"
      ]
    },
    {
      "cell_type": "code",
      "execution_count": 10,
      "metadata": {
        "id": "zzjeodb1gOWX"
      },
      "outputs": [],
      "source": [
        "from typing import Optional\n",
        "import pytorch_lightning as pl\n",
        "import torch\n",
        "\n",
        "class litSegModel(pl.LightningModule):\n",
        "    \"\"\"\n",
        "    Lightning Class template to wrap segmentation models.\n",
        "    Args:\n",
        "      hparams (`DictConfig`) : A `DictConfig` that stores the configs for training .\n",
        "    \"\"\"\n",
        "\n",
        "    def __init__(self):\n",
        "        super().__init__()\n",
        "        #self.save_hyperparameters()  # Save the hyperparameters.\n",
        "        self.model = SEGMODEL\n",
        "        self.dataloader = SEGDATALOADER\n",
        "        self.criterion = CRITERION\n",
        "        self.metrics = METRICS\n",
        "        self.dataset = DATASET\n",
        "        self.augmentation = AUGMENTATION\n",
        "\n",
        "\n",
        "    def prepare_data(self) -> None:\n",
        "        \"\"\"\n",
        "        Change the file utils/prepare_data.py to this function. It must return\n",
        "        SegDataset and SegDataLoader.\n",
        "        \"\"\"\n",
        "        pass\n",
        "\n",
        "    def setup(self, stage: Optional[str] = None) -> None:\n",
        "        # train/val/test split\n",
        "        train, val, test = self.dataset        \n",
        "        if stage in (None, \"fit\"):\n",
        "            self.dbtrain = self.dataloader(train, AUGMENTATION)\n",
        "            self.dbval = self.dataloader(val, no_augmentation)\n",
        "\n",
        "        if stage in (None, \"test\"):\n",
        "            self.dbtest = self.dataloader(test,no_augmentation)\n",
        "\n",
        "    def train_dataloader(self):        \n",
        "        return torch.utils.data.DataLoader(\n",
        "            dataset=self.dbtrain,\n",
        "            batch_size=2,\n",
        "            num_workers=0,\n",
        "            pin_memory=False,\n",
        "            shuffle=True,\n",
        "        )\n",
        "\n",
        "    def val_dataloader(self):        \n",
        "        return torch.utils.data.DataLoader(\n",
        "            dataset=self.dbval,\n",
        "            batch_size=2,\n",
        "            num_workers=0,\n",
        "            pin_memory=False,\n",
        "            shuffle=False,\n",
        "        )\n",
        "\n",
        "    def test_dataloader(self):        \n",
        "        return torch.utils.data.DataLoader(\n",
        "            dataset=self.dbtest,\n",
        "            batch_size=2,\n",
        "            num_workers=0,\n",
        "            pin_memory=False,\n",
        "            shuffle=False,\n",
        "        )\n",
        "\n",
        "    def forward(self, x):\n",
        "        return self.model(x)\n",
        "\n",
        "    def training_step(self, batch, batch_idx):\n",
        "        X, y, _ = batch\n",
        "        y_hat = self.forward(X)\n",
        "        # save_breakpoint([y_hat, y])\n",
        "        loss = self.criterion(y_hat, y)\n",
        "        self.log(\"loss_train\", loss, prog_bar=True, logger=True, on_epoch=True)\n",
        "        return loss\n",
        "\n",
        "    def validation_step(self, batch, batch_idx):\n",
        "        X, y, _ = batch\n",
        "        y_hat = self.forward(X)\n",
        "        # save_breakpoint([y_hat, y])\n",
        "        loss = self.criterion(y_hat, y)\n",
        "        self.log(\"loss_val\", loss, prog_bar=True, logger=True, on_epoch=True)\n",
        "\n",
        "        # Update metrics\n",
        "        if self.metrics is not None:\n",
        "            y_hat_class = y_hat.argmax(dim=1)\n",
        "            y = y.type(torch.long)\n",
        "\n",
        "            # Iterate for each metric\n",
        "            for value in self.metrics.values():\n",
        "                value.update(y_hat_class, y)\n",
        "\n",
        "        return loss\n",
        "\n",
        "    def validation_epoch_end(self, val_metrics_results):\n",
        "        if self.metrics is not None:\n",
        "            for key, value in self.metrics.items():\n",
        "                metric_value = value.compute()\n",
        "                logging_name = key.lower() + \"_val\"\n",
        "                self.log(\n",
        "                    name=logging_name,\n",
        "                    value=metric_value,\n",
        "                    prog_bar=False,\n",
        "                    logger=True,\n",
        "                    on_epoch=True,\n",
        "                )\n",
        "                value.reset()\n",
        "\n",
        "    def test_step(self, batch, batch_idx):\n",
        "        if self.metrics is not None:\n",
        "            # Update metrics\n",
        "            X, y, _ = batch\n",
        "            y_hat = self.forward(X).squeeze()\n",
        "            \n",
        "            y_hat_class = y_hat.argmax(dim=1)\n",
        "            y = y.type(torch.long)\n",
        "\n",
        "            # Iterate for each metric\n",
        "            for value in self.metrics.values():\n",
        "                value.update(y_hat_class, y)\n",
        "\n",
        "    def test_epoch_end(self, outputs):\n",
        "        if self.metrics is not None:\n",
        "            for key, value in self.metrics.items():\n",
        "                metric_value = value.compute()\n",
        "                logging_name = key.lower() + \"_test\"\n",
        "                self.log(\n",
        "                    name=logging_name,\n",
        "                    value=metric_value,\n",
        "                    prog_bar=True,\n",
        "                    logger=True,\n",
        "                    on_epoch=True,\n",
        "                )\n",
        "                value.reset()\n",
        "\n",
        "    def configure_optimizers(self) -> torch.optim.Optimizer:\n",
        "        \"\"\"\n",
        "        Configures the optimier to use   for training\n",
        "        \n",
        "        Returns:\n",
        "            torch.optim.Optimier: the optimizer for updating the model's parameters\n",
        "        \"\"\"\n",
        "        self.opt = torch.optim.AdamW(self.parameters(), lr=0.001)\n",
        "        \n",
        "        # Set a scheduler\n",
        "        self.sch = {\n",
        "            \"scheduler\": torch.optim.lr_scheduler.ReduceLROnPlateau(\n",
        "                optimizer=self.opt,\n",
        "                mode=\"min\",\n",
        "                factor=0.1,\n",
        "                patience=4,\n",
        "                verbose=True\n",
        "            ),\n",
        "            \"frequency\": 1, # \n",
        "            \"monitor\": \"loss_val\" # quantity to be monitored\n",
        "        }\n",
        "        return [self.opt], [self.sch]"
      ]
    },
    {
      "cell_type": "markdown",
      "metadata": {
        "id": "Fuwy7LNnjeAm"
      },
      "source": [
        "### **11. Simple sanity check**"
      ]
    },
    {
      "cell_type": "code",
      "execution_count": 11,
      "metadata": {
        "colab": {
          "base_uri": "https://localhost:8080/"
        },
        "id": "VV8inizhgYUr",
        "outputId": "af33d824-9b6b-47c6-acc6-ae865c676c0a"
      },
      "outputs": [
        {
          "name": "stdout",
          "output_type": "stream",
          "text": [
            "Checking DataLoader ... [OK]\n",
            "Checking Model ... [OK]\n",
            "Checking Criterion ... [OK]\n",
            "Checking Optimizer ... [OK]\n"
          ]
        }
      ],
      "source": [
        "# check the class\n",
        "self = litSegModel()\n",
        "print(\"Checking DataLoader ...\", end=\"\\r\")\n",
        "self.prepare_data()\n",
        "self.setup()\n",
        "X, y, _ = next(iter(self.test_dataloader()))\n",
        "print(\"Checking DataLoader ... [OK]\")\n",
        "\n",
        "# Checking Model\n",
        "print(\"Checking Model ...\", end=\"\\r\")\n",
        "y_hat = self(X)\n",
        "print(\"Checking Model ... [OK]\")\n",
        "\n",
        "# Checking Criterion\n",
        "print(\"Checking Criterion ...\", end=\"\\r\")    \n",
        "loss = CRITERION(y_hat, y)\n",
        "print(\"Checking Criterion ... [OK]\")\n",
        "\n",
        "\n",
        "# Checking Optimizer\n",
        "print(\"Checking Optimizer ...\", end=\"\\r\")\n",
        "loss.backward()\n",
        "print(\"Checking Optimizer ... [OK]\")"
      ]
    },
    {
      "cell_type": "markdown",
      "metadata": {
        "id": "QL2AOfidjigN"
      },
      "source": [
        "### **12. Setup a Trainer**"
      ]
    },
    {
      "cell_type": "code",
      "execution_count": null,
      "metadata": {
        "colab": {
          "base_uri": "https://localhost:8080/",
          "height": 398,
          "referenced_widgets": [
            "0a61fd7c6c304fc3a2b36067715361ea",
            "fb0b7398290a4852a142e1cb835fe42b",
            "9d3c85e0070843e4949ecef873d2e395",
            "4c31ac0a4c8240f380b0dc8d3b00ecbe",
            "d489204c5b8e47e8a832dd94a5759dfe",
            "874272aab48447958314a7ae5721ddcc",
            "ff2806f840174f1c93eba9e80d925190",
            "59f08b4a30564f058d71e4b320b60b40",
            "481ba1535f2a4b3c865a43ec28269b1f",
            "8526bf10232e461dadd542a1ca736a2f",
            "bf9682347fa046599ad80d0bd34b0ba7",
            "c19a28d243914be2ac0d51a45cb34d09",
            "e088157818bd4126b2be2d526a808e39",
            "2e6dce02cb85439c81855e99f07a52dd",
            "249140b8ac244b97a1baf70338cb0090",
            "5fc8d1fb3d2f42b48ea0c6032eadaafb",
            "37b1ea8df0af498593426396a07e84bc",
            "c022d08fb56542c3829606a644c689eb",
            "7473a4a09fd5429ba972fa7fcbf6d79a",
            "164ed16c0ad44477a028ae753543e141",
            "58b212927a7c4462810ca3efdf55dbda",
            "6d7f0e7ab64b476d929f563b0bfcc1a9"
          ]
        },
        "id": "Juc4ELFig7lB",
        "outputId": "1edb3b44-2b88-47be-da01-038f9cbdab5e"
      },
      "outputs": [
        {
          "name": "stderr",
          "output_type": "stream",
          "text": [
            "/usr/local/lib/python3.7/dist-packages/pytorch_lightning/trainer/connectors/accelerator_connector.py:448: LightningDeprecationWarning: Setting `Trainer(gpus=0)` is deprecated in v1.7 and will be removed in v2.0. Please use `Trainer(accelerator='gpu', devices=0)` instead.\n",
            "  f\"Setting `Trainer(gpus={gpus!r})` is deprecated in v1.7 and will be removed\"\n",
            "INFO:pytorch_lightning.utilities.rank_zero:GPU available: False, used: False\n",
            "INFO:pytorch_lightning.utilities.rank_zero:TPU available: False, using: 0 TPU cores\n",
            "INFO:pytorch_lightning.utilities.rank_zero:IPU available: False, using: 0 IPUs\n",
            "INFO:pytorch_lightning.utilities.rank_zero:HPU available: False, using: 0 HPUs\n",
            "WARNING:pytorch_lightning.loggers.tensorboard:Missing logger folder: /content/lightning_logs\n",
            "INFO:pytorch_lightning.callbacks.model_summary:\n",
            "  | Name      | Type             | Params\n",
            "-----------------------------------------------\n",
            "0 | model     | Unet             | 6.6 M \n",
            "1 | criterion | CrossEntropyLoss | 0     \n",
            "-----------------------------------------------\n",
            "6.6 M     Trainable params\n",
            "0         Non-trainable params\n",
            "6.6 M     Total params\n",
            "26.529    Total estimated model params size (MB)\n"
          ]
        },
        {
          "data": {
            "application/vnd.jupyter.widget-view+json": {
              "model_id": "0a61fd7c6c304fc3a2b36067715361ea",
              "version_major": 2,
              "version_minor": 0
            },
            "text/plain": [
              "Sanity Checking: 0it [00:00, ?it/s]"
            ]
          },
          "metadata": {},
          "output_type": "display_data"
        },
        {
          "name": "stderr",
          "output_type": "stream",
          "text": [
            "/usr/local/lib/python3.7/dist-packages/pytorch_lightning/utilities/data.py:99: UserWarning: Trying to infer the `batch_size` from an ambiguous collection. The batch size we found is 2. To avoid any miscalculations, use `self.log(..., batch_size=batch_size)`.\n",
            "  \"Trying to infer the `batch_size` from an ambiguous collection. The batch size we\"\n"
          ]
        },
        {
          "data": {
            "application/vnd.jupyter.widget-view+json": {
              "model_id": "c19a28d243914be2ac0d51a45cb34d09",
              "version_major": 2,
              "version_minor": 0
            },
            "text/plain": [
              "Training: 0it [00:00, ?it/s]"
            ]
          },
          "metadata": {},
          "output_type": "display_data"
        }
      ],
      "source": [
        "from pytorch_lightning import Trainer\n",
        "import pytorch_lightning\n",
        "\n",
        "mymodel = litSegModel()\n",
        "callbacks = [\n",
        "    pytorch_lightning.callbacks.EarlyStopping(monitor=\"loss_val\", patience=10, mode=\"min\"),\n",
        "    pytorch_lightning.callbacks.ModelCheckpoint(monitor=\"loss_val\", dirpath=\"bestmodel/\", filename=\"ramiel\", save_top_k=1, mode=\"min\")\n",
        "]\n",
        "trainer = Trainer(gpus=0, max_epochs=50, precision=32, callbacks=callbacks)#, logger=LOGGER)\n",
        "\n",
        "# start train\n",
        "trainer.fit(mymodel)\n",
        "\n",
        "# start test\n",
        "trainer.test(mymodel)"
      ]
    }
  ],
  "metadata": {
    "colab": {
      "collapsed_sections": [],
      "provenance": []
    },
    "kernelspec": {
      "display_name": "Python 3.8.10 64-bit",
      "language": "python",
      "name": "python3"
    },
    "language_info": {
      "name": "python",
      "version": "3.8.10"
    },
    "vscode": {
      "interpreter": {
        "hash": "31f2aee4e71d21fbe5cf8b01ff0e069b9275f58929596ceb00d14d90e3e16cd6"
      }
    },
    "widgets": {
      "application/vnd.jupyter.widget-state+json": {
        "0a61fd7c6c304fc3a2b36067715361ea": {
          "model_module": "@jupyter-widgets/controls",
          "model_module_version": "1.5.0",
          "model_name": "HBoxModel",
          "state": {
            "_dom_classes": [],
            "_model_module": "@jupyter-widgets/controls",
            "_model_module_version": "1.5.0",
            "_model_name": "HBoxModel",
            "_view_count": null,
            "_view_module": "@jupyter-widgets/controls",
            "_view_module_version": "1.5.0",
            "_view_name": "HBoxView",
            "box_style": "",
            "children": [
              "IPY_MODEL_fb0b7398290a4852a142e1cb835fe42b",
              "IPY_MODEL_9d3c85e0070843e4949ecef873d2e395",
              "IPY_MODEL_4c31ac0a4c8240f380b0dc8d3b00ecbe"
            ],
            "layout": "IPY_MODEL_d489204c5b8e47e8a832dd94a5759dfe"
          }
        },
        "164ed16c0ad44477a028ae753543e141": {
          "model_module": "@jupyter-widgets/controls",
          "model_module_version": "1.5.0",
          "model_name": "ProgressStyleModel",
          "state": {
            "_model_module": "@jupyter-widgets/controls",
            "_model_module_version": "1.5.0",
            "_model_name": "ProgressStyleModel",
            "_view_count": null,
            "_view_module": "@jupyter-widgets/base",
            "_view_module_version": "1.2.0",
            "_view_name": "StyleView",
            "bar_color": null,
            "description_width": ""
          }
        },
        "249140b8ac244b97a1baf70338cb0090": {
          "model_module": "@jupyter-widgets/controls",
          "model_module_version": "1.5.0",
          "model_name": "HTMLModel",
          "state": {
            "_dom_classes": [],
            "_model_module": "@jupyter-widgets/controls",
            "_model_module_version": "1.5.0",
            "_model_name": "HTMLModel",
            "_view_count": null,
            "_view_module": "@jupyter-widgets/controls",
            "_view_module_version": "1.5.0",
            "_view_name": "HTMLView",
            "description": "",
            "description_tooltip": null,
            "layout": "IPY_MODEL_58b212927a7c4462810ca3efdf55dbda",
            "placeholder": "​",
            "style": "IPY_MODEL_6d7f0e7ab64b476d929f563b0bfcc1a9",
            "value": " 100/4246 [13:13&lt;9:08:04,  7.93s/it, loss=0.95, v_num=0, loss_train_step=0.583]"
          }
        },
        "2e6dce02cb85439c81855e99f07a52dd": {
          "model_module": "@jupyter-widgets/controls",
          "model_module_version": "1.5.0",
          "model_name": "FloatProgressModel",
          "state": {
            "_dom_classes": [],
            "_model_module": "@jupyter-widgets/controls",
            "_model_module_version": "1.5.0",
            "_model_name": "FloatProgressModel",
            "_view_count": null,
            "_view_module": "@jupyter-widgets/controls",
            "_view_module_version": "1.5.0",
            "_view_name": "ProgressView",
            "bar_style": "",
            "description": "",
            "description_tooltip": null,
            "layout": "IPY_MODEL_7473a4a09fd5429ba972fa7fcbf6d79a",
            "max": 4246,
            "min": 0,
            "orientation": "horizontal",
            "style": "IPY_MODEL_164ed16c0ad44477a028ae753543e141",
            "value": 100
          }
        },
        "37b1ea8df0af498593426396a07e84bc": {
          "model_module": "@jupyter-widgets/base",
          "model_module_version": "1.2.0",
          "model_name": "LayoutModel",
          "state": {
            "_model_module": "@jupyter-widgets/base",
            "_model_module_version": "1.2.0",
            "_model_name": "LayoutModel",
            "_view_count": null,
            "_view_module": "@jupyter-widgets/base",
            "_view_module_version": "1.2.0",
            "_view_name": "LayoutView",
            "align_content": null,
            "align_items": null,
            "align_self": null,
            "border": null,
            "bottom": null,
            "display": null,
            "flex": null,
            "flex_flow": null,
            "grid_area": null,
            "grid_auto_columns": null,
            "grid_auto_flow": null,
            "grid_auto_rows": null,
            "grid_column": null,
            "grid_gap": null,
            "grid_row": null,
            "grid_template_areas": null,
            "grid_template_columns": null,
            "grid_template_rows": null,
            "height": null,
            "justify_content": null,
            "justify_items": null,
            "left": null,
            "margin": null,
            "max_height": null,
            "max_width": null,
            "min_height": null,
            "min_width": null,
            "object_fit": null,
            "object_position": null,
            "order": null,
            "overflow": null,
            "overflow_x": null,
            "overflow_y": null,
            "padding": null,
            "right": null,
            "top": null,
            "visibility": null,
            "width": null
          }
        },
        "481ba1535f2a4b3c865a43ec28269b1f": {
          "model_module": "@jupyter-widgets/controls",
          "model_module_version": "1.5.0",
          "model_name": "ProgressStyleModel",
          "state": {
            "_model_module": "@jupyter-widgets/controls",
            "_model_module_version": "1.5.0",
            "_model_name": "ProgressStyleModel",
            "_view_count": null,
            "_view_module": "@jupyter-widgets/base",
            "_view_module_version": "1.2.0",
            "_view_name": "StyleView",
            "bar_color": null,
            "description_width": ""
          }
        },
        "4c31ac0a4c8240f380b0dc8d3b00ecbe": {
          "model_module": "@jupyter-widgets/controls",
          "model_module_version": "1.5.0",
          "model_name": "HTMLModel",
          "state": {
            "_dom_classes": [],
            "_model_module": "@jupyter-widgets/controls",
            "_model_module_version": "1.5.0",
            "_model_name": "HTMLModel",
            "_view_count": null,
            "_view_module": "@jupyter-widgets/controls",
            "_view_module_version": "1.5.0",
            "_view_name": "HTMLView",
            "description": "",
            "description_tooltip": null,
            "layout": "IPY_MODEL_8526bf10232e461dadd542a1ca736a2f",
            "placeholder": "​",
            "style": "IPY_MODEL_bf9682347fa046599ad80d0bd34b0ba7",
            "value": " 2/2 [00:05&lt;00:00,  2.91s/it]"
          }
        },
        "58b212927a7c4462810ca3efdf55dbda": {
          "model_module": "@jupyter-widgets/base",
          "model_module_version": "1.2.0",
          "model_name": "LayoutModel",
          "state": {
            "_model_module": "@jupyter-widgets/base",
            "_model_module_version": "1.2.0",
            "_model_name": "LayoutModel",
            "_view_count": null,
            "_view_module": "@jupyter-widgets/base",
            "_view_module_version": "1.2.0",
            "_view_name": "LayoutView",
            "align_content": null,
            "align_items": null,
            "align_self": null,
            "border": null,
            "bottom": null,
            "display": null,
            "flex": null,
            "flex_flow": null,
            "grid_area": null,
            "grid_auto_columns": null,
            "grid_auto_flow": null,
            "grid_auto_rows": null,
            "grid_column": null,
            "grid_gap": null,
            "grid_row": null,
            "grid_template_areas": null,
            "grid_template_columns": null,
            "grid_template_rows": null,
            "height": null,
            "justify_content": null,
            "justify_items": null,
            "left": null,
            "margin": null,
            "max_height": null,
            "max_width": null,
            "min_height": null,
            "min_width": null,
            "object_fit": null,
            "object_position": null,
            "order": null,
            "overflow": null,
            "overflow_x": null,
            "overflow_y": null,
            "padding": null,
            "right": null,
            "top": null,
            "visibility": null,
            "width": null
          }
        },
        "59f08b4a30564f058d71e4b320b60b40": {
          "model_module": "@jupyter-widgets/base",
          "model_module_version": "1.2.0",
          "model_name": "LayoutModel",
          "state": {
            "_model_module": "@jupyter-widgets/base",
            "_model_module_version": "1.2.0",
            "_model_name": "LayoutModel",
            "_view_count": null,
            "_view_module": "@jupyter-widgets/base",
            "_view_module_version": "1.2.0",
            "_view_name": "LayoutView",
            "align_content": null,
            "align_items": null,
            "align_self": null,
            "border": null,
            "bottom": null,
            "display": null,
            "flex": "2",
            "flex_flow": null,
            "grid_area": null,
            "grid_auto_columns": null,
            "grid_auto_flow": null,
            "grid_auto_rows": null,
            "grid_column": null,
            "grid_gap": null,
            "grid_row": null,
            "grid_template_areas": null,
            "grid_template_columns": null,
            "grid_template_rows": null,
            "height": null,
            "justify_content": null,
            "justify_items": null,
            "left": null,
            "margin": null,
            "max_height": null,
            "max_width": null,
            "min_height": null,
            "min_width": null,
            "object_fit": null,
            "object_position": null,
            "order": null,
            "overflow": null,
            "overflow_x": null,
            "overflow_y": null,
            "padding": null,
            "right": null,
            "top": null,
            "visibility": null,
            "width": null
          }
        },
        "5fc8d1fb3d2f42b48ea0c6032eadaafb": {
          "model_module": "@jupyter-widgets/base",
          "model_module_version": "1.2.0",
          "model_name": "LayoutModel",
          "state": {
            "_model_module": "@jupyter-widgets/base",
            "_model_module_version": "1.2.0",
            "_model_name": "LayoutModel",
            "_view_count": null,
            "_view_module": "@jupyter-widgets/base",
            "_view_module_version": "1.2.0",
            "_view_name": "LayoutView",
            "align_content": null,
            "align_items": null,
            "align_self": null,
            "border": null,
            "bottom": null,
            "display": "inline-flex",
            "flex": null,
            "flex_flow": "row wrap",
            "grid_area": null,
            "grid_auto_columns": null,
            "grid_auto_flow": null,
            "grid_auto_rows": null,
            "grid_column": null,
            "grid_gap": null,
            "grid_row": null,
            "grid_template_areas": null,
            "grid_template_columns": null,
            "grid_template_rows": null,
            "height": null,
            "justify_content": null,
            "justify_items": null,
            "left": null,
            "margin": null,
            "max_height": null,
            "max_width": null,
            "min_height": null,
            "min_width": null,
            "object_fit": null,
            "object_position": null,
            "order": null,
            "overflow": null,
            "overflow_x": null,
            "overflow_y": null,
            "padding": null,
            "right": null,
            "top": null,
            "visibility": null,
            "width": "100%"
          }
        },
        "6d7f0e7ab64b476d929f563b0bfcc1a9": {
          "model_module": "@jupyter-widgets/controls",
          "model_module_version": "1.5.0",
          "model_name": "DescriptionStyleModel",
          "state": {
            "_model_module": "@jupyter-widgets/controls",
            "_model_module_version": "1.5.0",
            "_model_name": "DescriptionStyleModel",
            "_view_count": null,
            "_view_module": "@jupyter-widgets/base",
            "_view_module_version": "1.2.0",
            "_view_name": "StyleView",
            "description_width": ""
          }
        },
        "7473a4a09fd5429ba972fa7fcbf6d79a": {
          "model_module": "@jupyter-widgets/base",
          "model_module_version": "1.2.0",
          "model_name": "LayoutModel",
          "state": {
            "_model_module": "@jupyter-widgets/base",
            "_model_module_version": "1.2.0",
            "_model_name": "LayoutModel",
            "_view_count": null,
            "_view_module": "@jupyter-widgets/base",
            "_view_module_version": "1.2.0",
            "_view_name": "LayoutView",
            "align_content": null,
            "align_items": null,
            "align_self": null,
            "border": null,
            "bottom": null,
            "display": null,
            "flex": "2",
            "flex_flow": null,
            "grid_area": null,
            "grid_auto_columns": null,
            "grid_auto_flow": null,
            "grid_auto_rows": null,
            "grid_column": null,
            "grid_gap": null,
            "grid_row": null,
            "grid_template_areas": null,
            "grid_template_columns": null,
            "grid_template_rows": null,
            "height": null,
            "justify_content": null,
            "justify_items": null,
            "left": null,
            "margin": null,
            "max_height": null,
            "max_width": null,
            "min_height": null,
            "min_width": null,
            "object_fit": null,
            "object_position": null,
            "order": null,
            "overflow": null,
            "overflow_x": null,
            "overflow_y": null,
            "padding": null,
            "right": null,
            "top": null,
            "visibility": null,
            "width": null
          }
        },
        "8526bf10232e461dadd542a1ca736a2f": {
          "model_module": "@jupyter-widgets/base",
          "model_module_version": "1.2.0",
          "model_name": "LayoutModel",
          "state": {
            "_model_module": "@jupyter-widgets/base",
            "_model_module_version": "1.2.0",
            "_model_name": "LayoutModel",
            "_view_count": null,
            "_view_module": "@jupyter-widgets/base",
            "_view_module_version": "1.2.0",
            "_view_name": "LayoutView",
            "align_content": null,
            "align_items": null,
            "align_self": null,
            "border": null,
            "bottom": null,
            "display": null,
            "flex": null,
            "flex_flow": null,
            "grid_area": null,
            "grid_auto_columns": null,
            "grid_auto_flow": null,
            "grid_auto_rows": null,
            "grid_column": null,
            "grid_gap": null,
            "grid_row": null,
            "grid_template_areas": null,
            "grid_template_columns": null,
            "grid_template_rows": null,
            "height": null,
            "justify_content": null,
            "justify_items": null,
            "left": null,
            "margin": null,
            "max_height": null,
            "max_width": null,
            "min_height": null,
            "min_width": null,
            "object_fit": null,
            "object_position": null,
            "order": null,
            "overflow": null,
            "overflow_x": null,
            "overflow_y": null,
            "padding": null,
            "right": null,
            "top": null,
            "visibility": null,
            "width": null
          }
        },
        "874272aab48447958314a7ae5721ddcc": {
          "model_module": "@jupyter-widgets/base",
          "model_module_version": "1.2.0",
          "model_name": "LayoutModel",
          "state": {
            "_model_module": "@jupyter-widgets/base",
            "_model_module_version": "1.2.0",
            "_model_name": "LayoutModel",
            "_view_count": null,
            "_view_module": "@jupyter-widgets/base",
            "_view_module_version": "1.2.0",
            "_view_name": "LayoutView",
            "align_content": null,
            "align_items": null,
            "align_self": null,
            "border": null,
            "bottom": null,
            "display": null,
            "flex": null,
            "flex_flow": null,
            "grid_area": null,
            "grid_auto_columns": null,
            "grid_auto_flow": null,
            "grid_auto_rows": null,
            "grid_column": null,
            "grid_gap": null,
            "grid_row": null,
            "grid_template_areas": null,
            "grid_template_columns": null,
            "grid_template_rows": null,
            "height": null,
            "justify_content": null,
            "justify_items": null,
            "left": null,
            "margin": null,
            "max_height": null,
            "max_width": null,
            "min_height": null,
            "min_width": null,
            "object_fit": null,
            "object_position": null,
            "order": null,
            "overflow": null,
            "overflow_x": null,
            "overflow_y": null,
            "padding": null,
            "right": null,
            "top": null,
            "visibility": null,
            "width": null
          }
        },
        "9d3c85e0070843e4949ecef873d2e395": {
          "model_module": "@jupyter-widgets/controls",
          "model_module_version": "1.5.0",
          "model_name": "FloatProgressModel",
          "state": {
            "_dom_classes": [],
            "_model_module": "@jupyter-widgets/controls",
            "_model_module_version": "1.5.0",
            "_model_name": "FloatProgressModel",
            "_view_count": null,
            "_view_module": "@jupyter-widgets/controls",
            "_view_module_version": "1.5.0",
            "_view_name": "ProgressView",
            "bar_style": "",
            "description": "",
            "description_tooltip": null,
            "layout": "IPY_MODEL_59f08b4a30564f058d71e4b320b60b40",
            "max": 2,
            "min": 0,
            "orientation": "horizontal",
            "style": "IPY_MODEL_481ba1535f2a4b3c865a43ec28269b1f",
            "value": 2
          }
        },
        "bf9682347fa046599ad80d0bd34b0ba7": {
          "model_module": "@jupyter-widgets/controls",
          "model_module_version": "1.5.0",
          "model_name": "DescriptionStyleModel",
          "state": {
            "_model_module": "@jupyter-widgets/controls",
            "_model_module_version": "1.5.0",
            "_model_name": "DescriptionStyleModel",
            "_view_count": null,
            "_view_module": "@jupyter-widgets/base",
            "_view_module_version": "1.2.0",
            "_view_name": "StyleView",
            "description_width": ""
          }
        },
        "c022d08fb56542c3829606a644c689eb": {
          "model_module": "@jupyter-widgets/controls",
          "model_module_version": "1.5.0",
          "model_name": "DescriptionStyleModel",
          "state": {
            "_model_module": "@jupyter-widgets/controls",
            "_model_module_version": "1.5.0",
            "_model_name": "DescriptionStyleModel",
            "_view_count": null,
            "_view_module": "@jupyter-widgets/base",
            "_view_module_version": "1.2.0",
            "_view_name": "StyleView",
            "description_width": ""
          }
        },
        "c19a28d243914be2ac0d51a45cb34d09": {
          "model_module": "@jupyter-widgets/controls",
          "model_module_version": "1.5.0",
          "model_name": "HBoxModel",
          "state": {
            "_dom_classes": [],
            "_model_module": "@jupyter-widgets/controls",
            "_model_module_version": "1.5.0",
            "_model_name": "HBoxModel",
            "_view_count": null,
            "_view_module": "@jupyter-widgets/controls",
            "_view_module_version": "1.5.0",
            "_view_name": "HBoxView",
            "box_style": "",
            "children": [
              "IPY_MODEL_e088157818bd4126b2be2d526a808e39",
              "IPY_MODEL_2e6dce02cb85439c81855e99f07a52dd",
              "IPY_MODEL_249140b8ac244b97a1baf70338cb0090"
            ],
            "layout": "IPY_MODEL_5fc8d1fb3d2f42b48ea0c6032eadaafb"
          }
        },
        "d489204c5b8e47e8a832dd94a5759dfe": {
          "model_module": "@jupyter-widgets/base",
          "model_module_version": "1.2.0",
          "model_name": "LayoutModel",
          "state": {
            "_model_module": "@jupyter-widgets/base",
            "_model_module_version": "1.2.0",
            "_model_name": "LayoutModel",
            "_view_count": null,
            "_view_module": "@jupyter-widgets/base",
            "_view_module_version": "1.2.0",
            "_view_name": "LayoutView",
            "align_content": null,
            "align_items": null,
            "align_self": null,
            "border": null,
            "bottom": null,
            "display": "inline-flex",
            "flex": null,
            "flex_flow": "row wrap",
            "grid_area": null,
            "grid_auto_columns": null,
            "grid_auto_flow": null,
            "grid_auto_rows": null,
            "grid_column": null,
            "grid_gap": null,
            "grid_row": null,
            "grid_template_areas": null,
            "grid_template_columns": null,
            "grid_template_rows": null,
            "height": null,
            "justify_content": null,
            "justify_items": null,
            "left": null,
            "margin": null,
            "max_height": null,
            "max_width": null,
            "min_height": null,
            "min_width": null,
            "object_fit": null,
            "object_position": null,
            "order": null,
            "overflow": null,
            "overflow_x": null,
            "overflow_y": null,
            "padding": null,
            "right": null,
            "top": null,
            "visibility": "hidden",
            "width": "100%"
          }
        },
        "e088157818bd4126b2be2d526a808e39": {
          "model_module": "@jupyter-widgets/controls",
          "model_module_version": "1.5.0",
          "model_name": "HTMLModel",
          "state": {
            "_dom_classes": [],
            "_model_module": "@jupyter-widgets/controls",
            "_model_module_version": "1.5.0",
            "_model_name": "HTMLModel",
            "_view_count": null,
            "_view_module": "@jupyter-widgets/controls",
            "_view_module_version": "1.5.0",
            "_view_name": "HTMLView",
            "description": "",
            "description_tooltip": null,
            "layout": "IPY_MODEL_37b1ea8df0af498593426396a07e84bc",
            "placeholder": "​",
            "style": "IPY_MODEL_c022d08fb56542c3829606a644c689eb",
            "value": "Epoch 0:   2%"
          }
        },
        "fb0b7398290a4852a142e1cb835fe42b": {
          "model_module": "@jupyter-widgets/controls",
          "model_module_version": "1.5.0",
          "model_name": "HTMLModel",
          "state": {
            "_dom_classes": [],
            "_model_module": "@jupyter-widgets/controls",
            "_model_module_version": "1.5.0",
            "_model_name": "HTMLModel",
            "_view_count": null,
            "_view_module": "@jupyter-widgets/controls",
            "_view_module_version": "1.5.0",
            "_view_name": "HTMLView",
            "description": "",
            "description_tooltip": null,
            "layout": "IPY_MODEL_874272aab48447958314a7ae5721ddcc",
            "placeholder": "​",
            "style": "IPY_MODEL_ff2806f840174f1c93eba9e80d925190",
            "value": "Sanity Checking DataLoader 0: 100%"
          }
        },
        "ff2806f840174f1c93eba9e80d925190": {
          "model_module": "@jupyter-widgets/controls",
          "model_module_version": "1.5.0",
          "model_name": "DescriptionStyleModel",
          "state": {
            "_model_module": "@jupyter-widgets/controls",
            "_model_module_version": "1.5.0",
            "_model_name": "DescriptionStyleModel",
            "_view_count": null,
            "_view_module": "@jupyter-widgets/base",
            "_view_module_version": "1.2.0",
            "_view_name": "StyleView",
            "description_width": ""
          }
        }
      }
    }
  },
  "nbformat": 4,
  "nbformat_minor": 0
}
